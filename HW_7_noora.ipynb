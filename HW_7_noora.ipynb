{
  "nbformat": 4,
  "nbformat_minor": 0,
  "metadata": {
    "colab": {
      "provenance": [],
      "authorship_tag": "ABX9TyPuKfydowWqFaqaAgWw1PTW",
      "include_colab_link": true
    },
    "kernelspec": {
      "name": "python3",
      "display_name": "Python 3"
    },
    "language_info": {
      "name": "python"
    }
  },
  "cells": [
    {
      "cell_type": "markdown",
      "metadata": {
        "id": "view-in-github",
        "colab_type": "text"
      },
      "source": [
        "<a href=\"https://colab.research.google.com/github/noora20FH/DataScience_Course/blob/main/HW_7_noora.ipynb\" target=\"_parent\"><img src=\"https://colab.research.google.com/assets/colab-badge.svg\" alt=\"Open In Colab\"/></a>"
      ]
    },
    {
      "cell_type": "markdown",
      "source": [
        "Name : Noora Aulia Hidayat\n",
        "\n",
        "ID Num: 112710047"
      ],
      "metadata": {
        "id": "NrU9luE4qrq6"
      }
    },
    {
      "cell_type": "code",
      "source": [
        "import numpy as np\n",
        "from sklearn import datasets\n",
        "from sklearn.naive_bayes import GaussianNB\n",
        "from sklearn.model_selection import train_test_split\n",
        "from sklearn.metrics import accuracy_score\n",
        "\n"
      ],
      "metadata": {
        "id": "mDqNMFzW7Wq8"
      },
      "execution_count": 1,
      "outputs": []
    },
    {
      "cell_type": "code",
      "source": [
        "np.random.seed(41)\n"
      ],
      "metadata": {
        "id": "3tNlzHpU8Tgh"
      },
      "execution_count": 2,
      "outputs": []
    },
    {
      "cell_type": "code",
      "source": [
        "iris = datasets.load_iris()\n",
        "X = iris.data\n",
        "Y = iris.target"
      ],
      "metadata": {
        "id": "J0oyg09I8cTO"
      },
      "execution_count": 3,
      "outputs": []
    },
    {
      "cell_type": "code",
      "source": [
        "#In the data set, 2/3 is used as the training set\n",
        "#and 1/3 is used as the test set\n",
        "X_train, X_test, Y_train, Y_test = train_test_split(X, Y, test_size=0.33)\n",
        "naive_bayes_clf = GaussianNB()\n",
        "naive_bayes_clf = naive_bayes_clf.fit(X_train, Y_train)\n",
        "Y_predict = naive_bayes_clf.predict(X_test)\n",
        "score = accuracy_score(Y_test, Y_predict)\n",
        "\n",
        "print( \"The Prediction accuracy of iris classification is:\", score)"
      ],
      "metadata": {
        "colab": {
          "base_uri": "https://localhost:8080/"
        },
        "id": "sO-d-SAw8pIR",
        "outputId": "96a1aafa-989b-4b18-a8c8-1f683c5eff1d"
      },
      "execution_count": 5,
      "outputs": [
        {
          "output_type": "stream",
          "name": "stdout",
          "text": [
            "The Prediction accuracy of iris classification is: 0.96\n"
          ]
        }
      ]
    }
  ]
}