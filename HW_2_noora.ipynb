{
  "nbformat": 4,
  "nbformat_minor": 0,
  "metadata": {
    "colab": {
      "provenance": []
    },
    "kernelspec": {
      "name": "python3",
      "display_name": "Python 3"
    },
    "language_info": {
      "name": "python"
    }
  },
  "cells": [
    {
      "cell_type": "code",
      "source": [
        "from google.colab import drive\n",
        "drive.mount('/content/drive')"
      ],
      "metadata": {
        "id": "sB0645GkxfVo",
        "colab": {
          "base_uri": "https://localhost:8080/"
        },
        "outputId": "754f506c-c2ad-4caf-e504-c91cdb1875a7"
      },
      "execution_count": null,
      "outputs": [
        {
          "output_type": "stream",
          "name": "stdout",
          "text": [
            "Mounted at /content/drive\n"
          ]
        }
      ]
    },
    {
      "cell_type": "code",
      "execution_count": null,
      "metadata": {
        "id": "mIJtI71VfvTK"
      },
      "outputs": [],
      "source": [
        "import pandas as pd\n",
        "df = pd.read_csv('/content/drive/MyDrive/Academic Progress Report/Week4/president_heights.csv')\n"
      ]
    },
    {
      "cell_type": "code",
      "source": [
        "selected_column = df[['order','name','height(cm)']]\n",
        "print(selected_column.to_string(index=False))"
      ],
      "metadata": {
        "colab": {
          "base_uri": "https://localhost:8080/"
        },
        "id": "xOebx9VqyTgf",
        "outputId": "54619612-d5c8-415b-f3e5-ee5540836a7f"
      },
      "execution_count": null,
      "outputs": [
        {
          "output_type": "stream",
          "name": "stdout",
          "text": [
            " order                   name  height(cm)\n",
            "     1      George Washington         189\n",
            "     2             John Adams         170\n",
            "     3       Thomas Jefferson         189\n",
            "     4          James Madison         163\n",
            "     5           James Monroe         183\n",
            "     6      John Quincy Adams         171\n",
            "     7         Andrew Jackson         185\n",
            "     8       Martin Van Buren         168\n",
            "     9 William Henry Harrison         173\n",
            "    10             John Tyler         183\n",
            "    11          James K. Polk         173\n",
            "    12         Zachary Taylor         173\n",
            "    13       Millard Fillmore         175\n",
            "    14        Franklin Pierce         178\n",
            "    15         James Buchanan         183\n",
            "    16        Abraham Lincoln         193\n",
            "    17         Andrew Johnson         178\n",
            "    18       Ulysses S. Grant         173\n",
            "    19    Rutherford B. Hayes         174\n",
            "    20      James A. Garfield         183\n",
            "    21      Chester A. Arthur         183\n",
            "    23      Benjamin Harrison         168\n",
            "    25       William McKinley         170\n",
            "    26     Theodore Roosevelt         178\n",
            "    27    William Howard Taft         182\n",
            "    28         Woodrow Wilson         180\n",
            "    29      Warren G. Harding         183\n",
            "    30        Calvin Coolidge         178\n",
            "    31         Herbert Hoover         182\n",
            "    32  Franklin D. Roosevelt         188\n",
            "    33        Harry S. Truman         175\n",
            "    34   Dwight D. Eisenhower         179\n",
            "    35        John F. Kennedy         183\n",
            "    36      Lyndon B. Johnson         193\n",
            "    37          Richard Nixon         182\n",
            "    38            Gerald Ford         183\n",
            "    39           Jimmy Carter         177\n",
            "    40          Ronald Reagan         185\n",
            "    41      George H. W. Bush         188\n",
            "    42           Bill Clinton         188\n",
            "    43         George W. Bush         182\n",
            "    44           Barack Obama         185\n"
          ]
        }
      ]
    },
    {
      "cell_type": "markdown",
      "source": [
        "### Mean, Median, Mode, Min, Max, Standard Deviation"
      ],
      "metadata": {
        "id": "TXv3H-mxzw_F"
      }
    },
    {
      "cell_type": "code",
      "source": [
        "import statistics"
      ],
      "metadata": {
        "id": "HlBe4Slpzfif"
      },
      "execution_count": null,
      "outputs": []
    },
    {
      "cell_type": "code",
      "source": [
        "\n",
        "# Calculate mean\n",
        "mean_height = df['height(cm)'].mean()\n",
        "\n",
        "# Calculate median\n",
        "median_height = df['height(cm)'].median()\n",
        "\n",
        "# Calculate mode\n",
        "mode_height = statistics.mode(df['height(cm)'])\n",
        "\n",
        "# Calculate maximum and minimum values\n",
        "max_height = df['height(cm)'].max()\n",
        "min_height = df['height(cm)'].min()\n",
        "\n",
        "# Calculate standard deviation\n",
        "std_deviation = df['height(cm)'].std()\n",
        "\n",
        "print(\"Mean:\", mean_height)\n",
        "print(\"Median:\", median_height)\n",
        "print(\"Mode:\", mode_height)\n",
        "print(\"Maximum:\", max_height)\n",
        "print(\"Minimum:\", min_height)\n",
        "print(\"Standard Deviation:\", std_deviation)\n"
      ],
      "metadata": {
        "colab": {
          "base_uri": "https://localhost:8080/"
        },
        "id": "BBJf35UlyYJ2",
        "outputId": "3b31007b-af73-4697-cf66-5237b15d87a7"
      },
      "execution_count": null,
      "outputs": [
        {
          "output_type": "stream",
          "name": "stdout",
          "text": [
            "Mean: 179.73809523809524\n",
            "Median: 182.0\n",
            "Mode: 183\n",
            "Maximum: 193\n",
            "Minimum: 163\n",
            "Standard Deviation: 7.0158688553582955\n"
          ]
        }
      ]
    },
    {
      "cell_type": "markdown",
      "source": [
        "##Skewness\n"
      ],
      "metadata": {
        "id": "4AUR5epLzqx4"
      }
    },
    {
      "cell_type": "code",
      "source": [
        "skewness = df['height(cm)'].skew()\n",
        "print(\"Skewness:\", skewness)"
      ],
      "metadata": {
        "colab": {
          "base_uri": "https://localhost:8080/"
        },
        "id": "Sv-dzCDIzGsv",
        "outputId": "fecc3f59-b9b0-4846-dc1a-9f018c4d4903"
      },
      "execution_count": null,
      "outputs": [
        {
          "output_type": "stream",
          "name": "stdout",
          "text": [
            "Skewness: -0.2520337007049649\n"
          ]
        }
      ]
    },
    {
      "cell_type": "markdown",
      "source": [
        "##Quartiles"
      ],
      "metadata": {
        "id": "XrEJkTom0kWw"
      }
    },
    {
      "cell_type": "code",
      "source": [
        "quantiles = df['height(cm)'].quantile([0.25, 0.75])\n",
        "Q1 = quantiles[0.25]\n",
        "Q3 = quantiles[0.75]\n",
        "\n",
        "print(f\"Q1: {Q1}\\nQ3: {Q3}\")"
      ],
      "metadata": {
        "colab": {
          "base_uri": "https://localhost:8080/"
        },
        "id": "q8zlPe7Q0kPH",
        "outputId": "60c813f3-9696-4773-9752-e940bb5ae0df"
      },
      "execution_count": null,
      "outputs": [
        {
          "output_type": "stream",
          "name": "stdout",
          "text": [
            "Q1: 174.25\n",
            "Q3: 183.0\n"
          ]
        }
      ]
    },
    {
      "cell_type": "markdown",
      "source": [
        "## Normalization"
      ],
      "metadata": {
        "id": "XrYnYiSs08s3"
      }
    },
    {
      "cell_type": "markdown",
      "source": [
        "###Min-Max"
      ],
      "metadata": {
        "id": "IMyyiSWP0_Z4"
      }
    },
    {
      "cell_type": "code",
      "source": [
        "min_value = df['height(cm)'].min()\n",
        "max_value = df['height(cm)'].max()\n",
        "df['max_min_normalized'] = (df['height(cm)'] - min_value) / (max_value - min_value)"
      ],
      "metadata": {
        "id": "AX_vK7TT2Axp"
      },
      "execution_count": null,
      "outputs": []
    },
    {
      "cell_type": "markdown",
      "source": [
        "###Z-Score"
      ],
      "metadata": {
        "id": "TrcDmf-a1E7P"
      }
    },
    {
      "cell_type": "code",
      "source": [
        "mean_value = df['height(cm)'].mean()\n",
        "std_value = df['height(cm)'].std()\n",
        "df['z_score_normalized'] = (df['height(cm)'] - mean_value) / std_value"
      ],
      "metadata": {
        "id": "9xur3iTS2KkX"
      },
      "execution_count": null,
      "outputs": []
    },
    {
      "cell_type": "code",
      "source": [
        "\n",
        "selected_columns = df[['order', 'name', 'max_min_normalized', 'z_score_normalized']]\n",
        "print(selected_columns.to_string(index = False))"
      ],
      "metadata": {
        "colab": {
          "base_uri": "https://localhost:8080/"
        },
        "id": "4c-puvlC0pHH",
        "outputId": "a217179f-0a93-4ae3-bae9-d93aa00825ea"
      },
      "execution_count": null,
      "outputs": [
        {
          "output_type": "stream",
          "name": "stdout",
          "text": [
            " order                   name  max_min_normalized  z_score_normalized\n",
            "     1      George Washington            0.866667            1.320137\n",
            "     2             John Adams            0.233333           -1.388010\n",
            "     3       Thomas Jefferson            0.866667            1.320137\n",
            "     4          James Madison            0.000000           -2.385748\n",
            "     5           James Monroe            0.666667            0.464932\n",
            "     6      John Quincy Adams            0.266667           -1.245476\n",
            "     7         Andrew Jackson            0.733333            0.750000\n",
            "     8       Martin Van Buren            0.166667           -1.673078\n",
            "     9 William Henry Harrison            0.333333           -0.960408\n",
            "    10             John Tyler            0.666667            0.464932\n",
            "    11          James K. Polk            0.333333           -0.960408\n",
            "    12         Zachary Taylor            0.333333           -0.960408\n",
            "    13       Millard Fillmore            0.400000           -0.675340\n",
            "    14        Franklin Pierce            0.500000           -0.247738\n",
            "    15         James Buchanan            0.666667            0.464932\n",
            "    16        Abraham Lincoln            1.000000            1.890273\n",
            "    17         Andrew Johnson            0.500000           -0.247738\n",
            "    18       Ulysses S. Grant            0.333333           -0.960408\n",
            "    19    Rutherford B. Hayes            0.366667           -0.817874\n",
            "    20      James A. Garfield            0.666667            0.464932\n",
            "    21      Chester A. Arthur            0.666667            0.464932\n",
            "    23      Benjamin Harrison            0.166667           -1.673078\n",
            "    25       William McKinley            0.233333           -1.388010\n",
            "    26     Theodore Roosevelt            0.500000           -0.247738\n",
            "    27    William Howard Taft            0.633333            0.322398\n",
            "    28         Woodrow Wilson            0.566667            0.037330\n",
            "    29      Warren G. Harding            0.666667            0.464932\n",
            "    30        Calvin Coolidge            0.500000           -0.247738\n",
            "    31         Herbert Hoover            0.633333            0.322398\n",
            "    32  Franklin D. Roosevelt            0.833333            1.177603\n",
            "    33        Harry S. Truman            0.400000           -0.675340\n",
            "    34   Dwight D. Eisenhower            0.533333           -0.105204\n",
            "    35        John F. Kennedy            0.666667            0.464932\n",
            "    36      Lyndon B. Johnson            1.000000            1.890273\n",
            "    37          Richard Nixon            0.633333            0.322398\n",
            "    38            Gerald Ford            0.666667            0.464932\n",
            "    39           Jimmy Carter            0.466667           -0.390272\n",
            "    40          Ronald Reagan            0.733333            0.750000\n",
            "    41      George H. W. Bush            0.833333            1.177603\n",
            "    42           Bill Clinton            0.833333            1.177603\n",
            "    43         George W. Bush            0.633333            0.322398\n",
            "    44           Barack Obama            0.733333            0.750000\n"
          ]
        }
      ]
    },
    {
      "cell_type": "markdown",
      "source": [
        "MIn-Max normalization scales the data to the range [0, 1]. Some machine learning algorithms, especially those based on distance metrics or optimization, perform better when the data is in the [0, 1] range. Scaling the data using Min-Max normalization can improve the convergence and performance of these algorithms, while  Z-score normalization transforms data to have a mean of 0 and a standard deviation of 1, making it easier to work with and compare datasets that may have different scales and distributions."
      ],
      "metadata": {
        "id": "YHM68wA61Kp0"
      }
    }
  ]
}