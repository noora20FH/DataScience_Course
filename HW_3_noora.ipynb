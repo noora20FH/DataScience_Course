{
  "nbformat": 4,
  "nbformat_minor": 0,
  "metadata": {
    "colab": {
      "provenance": [],
      "include_colab_link": true
    },
    "kernelspec": {
      "name": "python3",
      "display_name": "Python 3"
    },
    "language_info": {
      "name": "python"
    }
  },
  "cells": [
    {
      "cell_type": "markdown",
      "metadata": {
        "id": "view-in-github",
        "colab_type": "text"
      },
      "source": [
        "<a href=\"https://colab.research.google.com/github/noora20FH/DataScience_Course/blob/BigData/HW_3_noora.ipynb\" target=\"_parent\"><img src=\"https://colab.research.google.com/assets/colab-badge.svg\" alt=\"Open In Colab\"/></a>"
      ]
    },
    {
      "cell_type": "markdown",
      "source": [
        "#Numpy Exercise"
      ],
      "metadata": {
        "id": "knefyo7rez5H"
      }
    },
    {
      "cell_type": "markdown",
      "source": [
        "##1. Create a NumPy array containing integers from 0 to 9."
      ],
      "metadata": {
        "id": "iDG0iqGBe7tP"
      }
    },
    {
      "cell_type": "code",
      "source": [
        "import numpy as np\n",
        "rng = np.random.default_rng(seed=10)\n",
        "X = rng.integers(0, 10,(10, ))\n",
        "print(X)"
      ],
      "metadata": {
        "colab": {
          "base_uri": "https://localhost:8080/"
        },
        "id": "HuCZXC1leIvg",
        "outputId": "e12f3686-7d71-4bba-a394-6fa25951184b"
      },
      "execution_count": null,
      "outputs": [
        {
          "output_type": "stream",
          "name": "stdout",
          "text": [
            "[7 9 2 2 7 8 5 1 8 5]\n"
          ]
        }
      ]
    },
    {
      "cell_type": "markdown",
      "source": [
        "##2. Create a 5x5 random matrix."
      ],
      "metadata": {
        "id": "gafV10IVe_T7"
      }
    },
    {
      "cell_type": "code",
      "source": [
        "rng = np.random.default_rng(seed=42)\n",
        "X = rng.integers(0, 25, (5,5))\n",
        "print(X)"
      ],
      "metadata": {
        "colab": {
          "base_uri": "https://localhost:8080/"
        },
        "id": "imfU7sUFfGdu",
        "outputId": "4c2e197c-69a8-4886-ea18-715ead3a46b8"
      },
      "execution_count": null,
      "outputs": [
        {
          "output_type": "stream",
          "name": "stdout",
          "text": [
            "[[ 2 19 16 10 10]\n",
            " [21  2 17  5  2]\n",
            " [13 24 18 19 17]\n",
            " [19 12  3 20 11]\n",
            " [12  9  4 23 19]]\n"
          ]
        }
      ]
    },
    {
      "cell_type": "markdown",
      "source": [
        "##3. Replace all odd numbers in a one-dimensional array with -1."
      ],
      "metadata": {
        "id": "2QSadyBkfUHi"
      }
    },
    {
      "cell_type": "code",
      "source": [
        "rng = np.random.default_rng(seed=42)\n",
        "Y = rng.integers(0, 50, (20,))\n",
        "Y[Y % 2 != 0] = -1\n",
        "print(Y)"
      ],
      "metadata": {
        "colab": {
          "base_uri": "https://localhost:8080/"
        },
        "id": "Gzt3RzNLfTyD",
        "outputId": "3ea15dbc-0fa5-46e6-f4b1-9071a7c85ae7"
      },
      "execution_count": null,
      "outputs": [
        {
          "output_type": "stream",
          "name": "stdout",
          "text": [
            "[ 4 38 32 -1 -1 42  4 34 10  4 26 48 36 38 -1 -1 -1  6 -1 22]\n"
          ]
        }
      ]
    },
    {
      "cell_type": "markdown",
      "source": [
        "#Pandas Exercises"
      ],
      "metadata": {
        "id": "LmE9Z3sBhAQY"
      }
    },
    {
      "cell_type": "code",
      "source": [
        "import pandas as pd"
      ],
      "metadata": {
        "id": "PdwsdiiOh458"
      },
      "execution_count": null,
      "outputs": []
    },
    {
      "cell_type": "markdown",
      "source": [
        "##1. Create a DataFrame containing name, age, and gender."
      ],
      "metadata": {
        "id": "wYMt3BephH-b"
      }
    },
    {
      "cell_type": "code",
      "source": [
        "import pandas as pd\n",
        "\n",
        "data = pd.DataFrame([\n",
        "    {'name': 'Anton', 'age': 46, 'gender': 'Male'},\n",
        "    {'name': 'Nike', 'age': 34, 'gender': 'Female'},\n",
        "    {'name': 'Salwa', 'age': 40, 'gender': 'Female'},\n",
        "    {'name': 'Ima', 'age': 50, 'gender': 'Female'},\n",
        "    {'name': 'Baihaq', 'age': 27, 'gender': 'Male'},\n",
        "    {'name': 'Andre', 'age': 47, 'gender': 'Male'}\n",
        "])\n",
        "\n",
        "# Use .head() to limit the number of displayed rows\n",
        "print(data.head(5))\n"
      ],
      "metadata": {
        "colab": {
          "base_uri": "https://localhost:8080/"
        },
        "id": "aaZCSPdViOiZ",
        "outputId": "a820e729-a75c-453d-a486-d924d10ebd35"
      },
      "execution_count": null,
      "outputs": [
        {
          "output_type": "stream",
          "name": "stdout",
          "text": [
            "     name  age  gender\n",
            "0   Anton   46    Male\n",
            "1    Nike   34  Female\n",
            "2   Salwa   40  Female\n",
            "3     Ima   50  Female\n",
            "4  Baihaq   27    Male\n"
          ]
        }
      ]
    },
    {
      "cell_type": "markdown",
      "source": [
        "##2. Read data from a CSV file and display the first 5 rows.\n"
      ],
      "metadata": {
        "id": "muhWTOWGhW95"
      }
    },
    {
      "cell_type": "code",
      "source": [
        "from google.colab import drive\n",
        "drive.mount('/content/drive')"
      ],
      "metadata": {
        "colab": {
          "base_uri": "https://localhost:8080/"
        },
        "id": "2k0hWppMlHk9",
        "outputId": "54a20b9a-5d47-4e79-8b87-64cefb0403e6"
      },
      "execution_count": null,
      "outputs": [
        {
          "output_type": "stream",
          "name": "stdout",
          "text": [
            "Drive already mounted at /content/drive; to attempt to forcibly remount, call drive.mount(\"/content/drive\", force_remount=True).\n"
          ]
        }
      ]
    },
    {
      "cell_type": "code",
      "source": [
        "import pandas as pd\n",
        "df = pd.read_csv('/content/drive/MyDrive/Academic Progress Report/Week4/president_heights.csv')\n"
      ],
      "metadata": {
        "id": "y9o8MaOZlbam"
      },
      "execution_count": null,
      "outputs": []
    },
    {
      "cell_type": "code",
      "source": [
        "print(df.head(5))"
      ],
      "metadata": {
        "colab": {
          "base_uri": "https://localhost:8080/"
        },
        "id": "QiApcTS_lhvd",
        "outputId": "052dee5c-66c9-4370-eaea-2c371e9b953e"
      },
      "execution_count": null,
      "outputs": [
        {
          "output_type": "stream",
          "name": "stdout",
          "text": [
            "   order               name  height(cm)\n",
            "0      1  George Washington         189\n",
            "1      2         John Adams         170\n",
            "2      3   Thomas Jefferson         189\n",
            "3      4      James Madison         163\n",
            "4      5       James Monroe         183\n"
          ]
        }
      ]
    },
    {
      "cell_type": "code",
      "source": [
        "import pandas as pd\n",
        "\n",
        "data = pd.DataFrame([\n",
        "    {'name': 'Anton', 'age': 46, 'gender': 'Male'},\n",
        "    {'name': 'Nike', 'age': 34, 'gender': 'Female'},\n",
        "    {'name': 'Salwa', 'age': 40, 'gender': 'Female'},\n",
        "    {'name': 'Ima', 'age': 50, 'gender': 'Female'},\n",
        "    {'name': 'Baihaq', 'age': 27, 'gender': 'Male'},\n",
        "    {'name': 'Andre', 'age': 47, 'gender': 'Male'}\n",
        "])\n",
        "\n",
        "# Use .head() to limit the number of displayed rows\n",
        "print(data.head(5))\n"
      ],
      "metadata": {
        "colab": {
          "base_uri": "https://localhost:8080/"
        },
        "id": "OVWUgIUOkz06",
        "outputId": "86d5b670-ed68-4d66-9412-a3dfbc8d54c6"
      },
      "execution_count": null,
      "outputs": [
        {
          "output_type": "stream",
          "name": "stdout",
          "text": [
            "     name  age  gender\n",
            "0   Anton   46    Male\n",
            "1    Nike   34  Female\n",
            "2   Salwa   40  Female\n",
            "3     Ima   50  Female\n",
            "4  Baihaq   27    Male\n"
          ]
        }
      ]
    },
    {
      "cell_type": "markdown",
      "source": [
        "##3. Select specific columns in the DataFrame.\n"
      ],
      "metadata": {
        "id": "HAWctVfqhZjp"
      }
    },
    {
      "cell_type": "code",
      "source": [
        "selected_column = df[['order','name']]\n",
        "print(selected_column.to_string(index=False))"
      ],
      "metadata": {
        "colab": {
          "base_uri": "https://localhost:8080/"
        },
        "id": "VbpZyKZ-lOUk",
        "outputId": "4d47d883-e7c5-4108-cbc7-b84ef503149f"
      },
      "execution_count": null,
      "outputs": [
        {
          "output_type": "stream",
          "name": "stdout",
          "text": [
            " order                   name\n",
            "     1      George Washington\n",
            "     2             John Adams\n",
            "     3       Thomas Jefferson\n",
            "     4          James Madison\n",
            "     5           James Monroe\n",
            "     6      John Quincy Adams\n",
            "     7         Andrew Jackson\n",
            "     8       Martin Van Buren\n",
            "     9 William Henry Harrison\n",
            "    10             John Tyler\n",
            "    11          James K. Polk\n",
            "    12         Zachary Taylor\n",
            "    13       Millard Fillmore\n",
            "    14        Franklin Pierce\n",
            "    15         James Buchanan\n",
            "    16        Abraham Lincoln\n",
            "    17         Andrew Johnson\n",
            "    18       Ulysses S. Grant\n",
            "    19    Rutherford B. Hayes\n",
            "    20      James A. Garfield\n",
            "    21      Chester A. Arthur\n",
            "    23      Benjamin Harrison\n",
            "    25       William McKinley\n",
            "    26     Theodore Roosevelt\n",
            "    27    William Howard Taft\n",
            "    28         Woodrow Wilson\n",
            "    29      Warren G. Harding\n",
            "    30        Calvin Coolidge\n",
            "    31         Herbert Hoover\n",
            "    32  Franklin D. Roosevelt\n",
            "    33        Harry S. Truman\n",
            "    34   Dwight D. Eisenhower\n",
            "    35        John F. Kennedy\n",
            "    36      Lyndon B. Johnson\n",
            "    37          Richard Nixon\n",
            "    38            Gerald Ford\n",
            "    39           Jimmy Carter\n",
            "    40          Ronald Reagan\n",
            "    41      George H. W. Bush\n",
            "    42           Bill Clinton\n",
            "    43         George W. Bush\n",
            "    44           Barack Obama\n"
          ]
        }
      ]
    },
    {
      "cell_type": "code",
      "source": [],
      "metadata": {
        "id": "MO3s9Pe1lM2h"
      },
      "execution_count": null,
      "outputs": []
    },
    {
      "cell_type": "markdown",
      "source": [
        "##4. Identify and handle missing values in the DataFrame."
      ],
      "metadata": {
        "id": "LlupgWfwhcpP"
      }
    },
    {
      "cell_type": "code",
      "source": [
        "data2 = pd.DataFrame([\n",
        "    {'name': 'Anton', 'age': 46, 'gender': 'Male'},\n",
        "    {'name': 'Nike', 'age': 34, 'gender': 'Female'},\n",
        "    {'name': 'Salwa', 'age': None, 'gender': 'Female'},\n",
        "    {'name': 'Ima', 'age': 50, 'gender': 'Female'},\n",
        "    {'name': 'Baihaq', 'age': 27, 'gender': 'Male'},\n",
        "    {'name': 'Andre', 'age': None, 'gender': 'Male'}\n",
        "])\n",
        "\n",
        "\n",
        "missing_values = data2.isnull().sum()\n",
        "print(\"Missing Values:\\n\", missing_values,\"\\n\")\n",
        "\n",
        "\n",
        "data.fillna(0, inplace=True)\n",
        "print(\"DataFrame with Missing Values Filled:\\n\", data)"
      ],
      "metadata": {
        "id": "sB0645GkxfVo",
        "colab": {
          "base_uri": "https://localhost:8080/"
        },
        "outputId": "0879998e-775a-4184-cdc0-19b3391f5597"
      },
      "execution_count": null,
      "outputs": [
        {
          "output_type": "stream",
          "name": "stdout",
          "text": [
            "Missing Values:\n",
            " name      0\n",
            "age       2\n",
            "gender    0\n",
            "dtype: int64 \n",
            "\n",
            "DataFrame with Missing Values Filled:\n",
            "      name   age  gender\n",
            "0   Anton  46.0    Male\n",
            "1    Nike  34.0  Female\n",
            "2   Salwa   0.0  Female\n",
            "3     Ima  50.0  Female\n",
            "4  Baihaq  27.0    Male\n",
            "5   Andre   0.0    Male\n"
          ]
        }
      ]
    }
  ]
}