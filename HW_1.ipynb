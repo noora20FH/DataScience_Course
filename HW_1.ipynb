{
  "nbformat": 4,
  "nbformat_minor": 0,
  "metadata": {
    "colab": {
      "provenance": []
    },
    "kernelspec": {
      "name": "python3",
      "display_name": "Python 3"
    },
    "language_info": {
      "name": "python"
    }
  },
  "cells": [
    {
      "cell_type": "markdown",
      "source": [
        "Name : Noora Aulia Hidayat\n",
        "\n",
        "ID Num: 112710047"
      ],
      "metadata": {
        "id": "NrU9luE4qrq6"
      }
    },
    {
      "cell_type": "markdown",
      "source": [
        "#1. What are the 4V's of big data, and why are they important in the context of data analysis?\n",
        "\n"
      ],
      "metadata": {
        "id": "uiNAqyH9lNGw"
      }
    },
    {
      "cell_type": "markdown",
      "source": [
        "4V\n",
        "\n",
        "- Volume\n",
        "  - volume is the scale of data. it can be Terabytes to exabytes. Big Data involving massive dataset that can't be handle and analyzed by traditional database system\n",
        "- Velocity\n",
        "  - the data is generated in real-time or near real-time. refers to the speed whice is data is collected or generated\n",
        "- Variety\n",
        "  - the diversity of datatype and sources. Structed, unstructured,text, multimedia\n",
        "- Veracity\n",
        "  - Unsertaintly due to data inconsistency & incompletness, ambiguities, latency, deception, model approximationsEnsuring data quality and reliability is essential in the big data ecosystem.\n",
        "\n",
        "  Big Data is very important in the context of data analysis. first, data analyst need to use specialized tools and technologies that can efficiently process and analyze large datasets. second, for organization that needs real-time insights like analyze stock. Data analysts must be equipped to work with a wide range of data formats and integrate data from multiple sources to gain comprehensive insights.  Organizations use data analysis to gain a competitive advantage, identify market trends, and make informed strategic decisions. The \"4Vs\" help organizations assess their data capabilities and develop data strategies.\n",
        "  \n",
        "\n"
      ],
      "metadata": {
        "id": "Gg-RCBSclaSo"
      }
    },
    {
      "cell_type": "markdown",
      "source": [
        "#2. Create a NumPy array from a Python list. please show 1D array, 2D  and 3D array.\n"
      ],
      "metadata": {
        "id": "c1dWCyhplTcy"
      }
    },
    {
      "cell_type": "code",
      "source": [
        "import numpy as np\n"
      ],
      "metadata": {
        "id": "EGw16YCWoCaW"
      },
      "execution_count": null,
      "outputs": []
    },
    {
      "cell_type": "code",
      "source": [
        "#1D Array\n",
        "array1 = np.array([[74, 289, 2876, 12986]])\n",
        "#2D Array\n",
        "array2 = np.array([[1, 2], [3, 4]])\n",
        "#3D Array\n",
        "array3 = np.random.randint(3,99,(3,3))"
      ],
      "metadata": {
        "id": "ta450FSOovke"
      },
      "execution_count": null,
      "outputs": []
    },
    {
      "cell_type": "code",
      "source": [
        "print(\"1D Array\")\n",
        "print(array1)\n"
      ],
      "metadata": {
        "colab": {
          "base_uri": "https://localhost:8080/"
        },
        "id": "PwYisyu6pWRA",
        "outputId": "ad3beea8-185e-43a9-f64f-f888c04d8902"
      },
      "execution_count": null,
      "outputs": [
        {
          "output_type": "stream",
          "name": "stdout",
          "text": [
            "1D Array\n",
            "[[   74   289  2876 12986]]\n"
          ]
        }
      ]
    },
    {
      "cell_type": "code",
      "source": [
        "\n",
        "print(\"2D Array\")\n",
        "print(array2)\n"
      ],
      "metadata": {
        "colab": {
          "base_uri": "https://localhost:8080/"
        },
        "id": "nGjSiAmvp7cw",
        "outputId": "e05f0513-c8ad-47d2-d85d-95036284bb82"
      },
      "execution_count": null,
      "outputs": [
        {
          "output_type": "stream",
          "name": "stdout",
          "text": [
            "2D Array\n",
            "[[1 2]\n",
            " [3 4]]\n"
          ]
        }
      ]
    },
    {
      "cell_type": "code",
      "source": [
        "print(\"3D Array\")\n",
        "print(array3)"
      ],
      "metadata": {
        "colab": {
          "base_uri": "https://localhost:8080/"
        },
        "id": "OUUPuIgNp9NP",
        "outputId": "21e027aa-8e2a-45c4-c7b3-8e5a5add3873"
      },
      "execution_count": null,
      "outputs": [
        {
          "output_type": "stream",
          "name": "stdout",
          "text": [
            "3D Array\n",
            "[[77  5 33]\n",
            " [17 76 63]\n",
            " [60 94 55]]\n"
          ]
        }
      ]
    },
    {
      "cell_type": "markdown",
      "source": [
        "#3. Perform basic arithmetic operations on arrays (addition, subtraction, multiplication, division). please show in a  2D array."
      ],
      "metadata": {
        "id": "femG3bu0lVMG"
      }
    },
    {
      "cell_type": "code",
      "source": [
        "array = np.array([[62, 2], [17, 4]])\n",
        "\n",
        "addition_result = array + array\n",
        "\n",
        "subtraction_result = array - array\n",
        "\n",
        "scalar = 2\n",
        "multiplication_result = array * scalar\n",
        "\n",
        "divisor = 2\n",
        "division_result = array / divisor\n",
        "\n",
        "print(\"RESULT：\")\n",
        "\n",
        "print(\"Original :\")\n",
        "print(array)\n",
        "\n",
        "print(\"Addition :\")\n",
        "print(addition_result)\n",
        "\n",
        "print(\"Subtraction :\")\n",
        "print(subtraction_result)\n",
        "\n",
        "print(\"Multiplication :\")\n",
        "print(multiplication_result)\n",
        "\n",
        "print(\"Division :\")\n",
        "print(division_result)\n"
      ],
      "metadata": {
        "colab": {
          "base_uri": "https://localhost:8080/"
        },
        "id": "prSrQub3qGwg",
        "outputId": "672c82be-02ef-45c9-9b8b-05b62aaa2ce4"
      },
      "execution_count": null,
      "outputs": [
        {
          "output_type": "stream",
          "name": "stdout",
          "text": [
            "RESULT：\n",
            "Original :\n",
            "[[62  2]\n",
            " [17  4]]\n",
            "Addition :\n",
            "[[124   4]\n",
            " [ 34   8]]\n",
            "Subtraction :\n",
            "[[0 0]\n",
            " [0 0]]\n",
            "Multiplication :\n",
            "[[124   4]\n",
            " [ 34   8]]\n",
            "Division :\n",
            "[[31.   1. ]\n",
            " [ 8.5  2. ]]\n"
          ]
        }
      ]
    }
  ]
}